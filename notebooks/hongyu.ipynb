{
 "cells": [
  {
   "cell_type": "code",
   "execution_count": 1,
   "metadata": {
    "collapsed": false
   },
   "outputs": [
    {
     "name": "stdout",
     "output_type": "stream",
     "text": [
      "adult_R\n",
      "nrules: 284\n",
      "ndata: 30081 \n",
      "\n"
     ]
    }
   ],
   "source": [
    "\"\"\"\n",
    "Look at the prefixes from Hongyu.\n",
    "\n",
    "\"\"\"\n",
    "import os\n",
    "import sys\n",
    "\n",
    "import matplotlib\n",
    "matplotlib.use('Agg')\n",
    "%matplotlib inline\n",
    "import matplotlib.pyplot as plt\n",
    "import numpy as np\n",
    "\n",
    "sys.path.insert(0, '../code')\n",
    "from branch_bound import initialize, given_prefix\n",
    "import viz\n",
    "\n",
    "\n",
    "din = os.path.join('..', 'data')\n",
    "dout = os.path.join('..', 'cache')\n",
    "warm_start = False\n",
    "best_prefix = None\n",
    "delimiter = '\\t'\n",
    "quiet = True\n",
    "garbage_collect = False\n",
    "froot = 'adult_R'\n",
    "max_accuracy = 0\n",
    "seed = None\n",
    "sample = None\n",
    "\n",
    "label_file = '%s.label' % froot\n",
    "out_file = '%s.out' % froot\n",
    "\n",
    "(nrules, ndata, ones, rules, rule_set, rule_names, max_accuracy, best_prefix, cache) = \\\n",
    "    initialize(din, dout, label_file, out_file, warm_start, max_accuracy, best_prefix, seed, sample)\n",
    "\n",
    "print froot\n",
    "print 'nrules:', nrules\n",
    "print 'ndata:', ndata, '\\n'\n"
   ]
  },
  {
   "cell_type": "code",
   "execution_count": 2,
   "metadata": {
    "collapsed": false
   },
   "outputs": [
    {
     "name": "stdout",
     "output_type": "stream",
     "text": [
      "max: 0 -> 0.788338153652\n",
      "max: 0.788338153652 -> 0.804361557129\n",
      "max: 0.804361557129 -> 0.827931252285\n",
      "max: 0.827931252285 -> 0.830025597553\n",
      "max: 0.830025597553 -> 0.835244838935\n",
      "prefix: (45, 35, 77, 33, 134, 69, 68, 121, 86, 82, 97, 122, 59, 113, 210, 181, 166, 257)\n",
      "prediction: (0, 1, 0, 1, 1, 0, 1, 0, 1, 1, 1, 0, 1, 1, 1, 1, 1, 1)\n",
      "accuracy: 0.8352448389\n",
      "upper_bound: 0.8408630032\n",
      "num_captured: 27559\n",
      "num_captured_correct: 22772\n",
      "sum(not_captured): 2522\n",
      "curiosity: 0.174\n",
      "if {capital.gain=7298LessThancapital-gain} then predict 0\n",
      "else if {age=Young,marital.status=Never-married} then predict 1\n",
      "else if {education=Grad-school,marital.status=Married} then predict 0\n",
      "else if {age=Young,capital.loss=capital-lossEQ0} then predict 1\n",
      "else if {marital.status=Never-married,relationship=Own-child} then predict 1\n",
      "else if {education=Bachelors,marital.status=Married} then predict 0\n",
      "else if {education=Bachelors,hours.per.week=Over-time} then predict 1\n",
      "else if {marital.status=Married,occupation=Exec-managerial} then predict 0\n",
      "else if {education=HS-grad,marital.status=Married} then predict 1\n",
      "else if {education=Grad-school} then predict 1\n",
      "else if {education=Some-college,marital.status=Married} then predict 1\n",
      "else if {marital.status=Married,occupation=Prof-specialty} then predict 0\n",
      "else if {education=Assoc-degree,marital.status=Married} then predict 1\n",
      "else if {hours.per.week=Part-time} then predict 1\n",
      "else if {relationship=Husband} then predict 1\n",
      "else if {occupation=Prof-specialty} then predict 1\n",
      "else if {occupation=Exec-managerial,sex=Male} then predict 1\n",
      "else if {workclass=Private,hours.per.week=Full-time} then predict 1\n",
      "else predict 1\n"
     ]
    },
    {
     "ename": "NameError",
     "evalue": "global name 'ndata' is not defined",
     "output_type": "error",
     "traceback": [
      "\u001b[0;31m---------------------------------------------------------------------------\u001b[0m",
      "\u001b[0;31mNameError\u001b[0m                                 Traceback (most recent call last)",
      "\u001b[0;32m<ipython-input-2-48a118786c73>\u001b[0m in \u001b[0;36m<module>\u001b[0;34m()\u001b[0m\n\u001b[1;32m     36\u001b[0m \u001b[0mprefix\u001b[0m \u001b[0;34m=\u001b[0m \u001b[0;34m(\u001b[0m\u001b[0;36m45\u001b[0m\u001b[0;34m,\u001b[0m \u001b[0;36m35\u001b[0m\u001b[0;34m,\u001b[0m \u001b[0;36m77\u001b[0m\u001b[0;34m,\u001b[0m \u001b[0;36m33\u001b[0m\u001b[0;34m,\u001b[0m \u001b[0;36m134\u001b[0m\u001b[0;34m,\u001b[0m \u001b[0;36m69\u001b[0m\u001b[0;34m,\u001b[0m \u001b[0;36m68\u001b[0m\u001b[0;34m,\u001b[0m \u001b[0;36m121\u001b[0m\u001b[0;34m,\u001b[0m \u001b[0;36m86\u001b[0m\u001b[0;34m,\u001b[0m \u001b[0;36m82\u001b[0m\u001b[0;34m,\u001b[0m \u001b[0;36m97\u001b[0m\u001b[0;34m,\u001b[0m \u001b[0;36m122\u001b[0m\u001b[0;34m,\u001b[0m \u001b[0;36m59\u001b[0m\u001b[0;34m,\u001b[0m \u001b[0;36m113\u001b[0m\u001b[0;34m,\u001b[0m \u001b[0;36m210\u001b[0m\u001b[0;34m,\u001b[0m \u001b[0;36m181\u001b[0m\u001b[0;34m,\u001b[0m \u001b[0;36m166\u001b[0m\u001b[0;34m,\u001b[0m \u001b[0;36m257\u001b[0m\u001b[0;34m)\u001b[0m\u001b[0;34m\u001b[0m\u001b[0m\n\u001b[1;32m     37\u001b[0m \u001b[0mgiven_prefix\u001b[0m\u001b[0;34m(\u001b[0m\u001b[0mprefix\u001b[0m\u001b[0;34m,\u001b[0m \u001b[0mcache\u001b[0m\u001b[0;34m,\u001b[0m \u001b[0mrules\u001b[0m\u001b[0;34m,\u001b[0m \u001b[0mones\u001b[0m\u001b[0;34m,\u001b[0m \u001b[0mndata\u001b[0m\u001b[0;34m,\u001b[0m \u001b[0mmax_accuracy\u001b[0m\u001b[0;34m=\u001b[0m\u001b[0mmax_accuracy\u001b[0m\u001b[0;34m)\u001b[0m\u001b[0;34m\u001b[0m\u001b[0m\n\u001b[0;32m---> 38\u001b[0;31m \u001b[0mviz\u001b[0m\u001b[0;34m.\u001b[0m\u001b[0mprefix_trace\u001b[0m\u001b[0;34m(\u001b[0m\u001b[0mprefix\u001b[0m\u001b[0;34m,\u001b[0m \u001b[0mcache\u001b[0m\u001b[0;34m,\u001b[0m \u001b[0mrule_names\u001b[0m\u001b[0;34m)\u001b[0m\u001b[0;34m\u001b[0m\u001b[0m\n\u001b[0m",
      "\u001b[0;32m/Users/elaine/git/bbcache/code/viz.py\u001b[0m in \u001b[0;36mprefix_trace\u001b[0;34m(prefix, cache, rule_names)\u001b[0m\n\u001b[1;32m     34\u001b[0m     \u001b[0ma\u001b[0m \u001b[0;34m=\u001b[0m \u001b[0mlist\u001b[0m\u001b[0;34m(\u001b[0m\u001b[0mplt\u001b[0m\u001b[0;34m.\u001b[0m\u001b[0maxis\u001b[0m\u001b[0;34m(\u001b[0m\u001b[0;34m'tight'\u001b[0m\u001b[0;34m)\u001b[0m\u001b[0;34m)\u001b[0m\u001b[0;34m\u001b[0m\u001b[0m\n\u001b[1;32m     35\u001b[0m     \u001b[0mplt\u001b[0m\u001b[0;34m.\u001b[0m\u001b[0mlegend\u001b[0m\u001b[0;34m(\u001b[0m\u001b[0;34m(\u001b[0m\u001b[0;34m'num captured'\u001b[0m\u001b[0;34m,\u001b[0m \u001b[0;34m'num captured correct'\u001b[0m\u001b[0;34m)\u001b[0m\u001b[0;34m,\u001b[0m \u001b[0mloc\u001b[0m\u001b[0;34m=\u001b[0m\u001b[0;34m'best'\u001b[0m\u001b[0;34m)\u001b[0m\u001b[0;34m\u001b[0m\u001b[0m\n\u001b[0;32m---> 36\u001b[0;31m     \u001b[0ma\u001b[0m\u001b[0;34m[\u001b[0m\u001b[0;36m3\u001b[0m\u001b[0;34m]\u001b[0m \u001b[0;34m=\u001b[0m \u001b[0mndata\u001b[0m\u001b[0;34m\u001b[0m\u001b[0m\n\u001b[0m\u001b[1;32m     37\u001b[0m     \u001b[0mplt\u001b[0m\u001b[0;34m.\u001b[0m\u001b[0maxis\u001b[0m\u001b[0;34m(\u001b[0m\u001b[0ma\u001b[0m\u001b[0;34m)\u001b[0m\u001b[0;34m\u001b[0m\u001b[0m\n\u001b[1;32m     38\u001b[0m     \u001b[0;32mreturn\u001b[0m\u001b[0;34m\u001b[0m\u001b[0m\n",
      "\u001b[0;31mNameError\u001b[0m: global name 'ndata' is not defined"
     ]
    },
    {
     "data": {
      "image/png": "[encoded data removed]",
      "text/plain": [
       "<matplotlib.figure.Figure at 0x11157aed0>"
      ]
     },
     "metadata": {},
     "output_type": "display_data"
    }
   ],
   "source": [
    "\"\"\"\n",
    "A rule list from the latest sbrl R pkg :\n",
    "\n",
    "    sbrl_model <- sbrl(data, iters=20000, pos_sign=\"1\", neg_sign=\"0\", rule_minlen=1, rule_maxlen=2, minsupport_pos=0.10, minsupport_neg=0.10, lambda=20.0, eta=1.0, nchain=25)\n",
    "    print(sbrl_model)\n",
    "\n",
    "The rules list is : \n",
    "\n",
    "    If      {capital.gain=7298LessThancapital-gain} (rule[46]) then positive probability = 0.01617922\n",
    "    else if {education=Grad-school,marital.status=Married} (rule[76]) then positive probability = 0.24616368\n",
    "    else if {age=Young,marital.status=Never-married} (rule[36]) then positive probability = 0.99606078\n",
    "    else if {age=Young,capital.loss=capital-lossEQ0} (rule[34]) then positive probability = 0.92338388\n",
    "    else if {education=Bachelors,marital.status=Married} (rule[68]) then positive probability = 0.33762434\n",
    "    else if {marital.status=Married,occupation=Exec-managerial} (rule[123]) then positive probability = 0.46758105\n",
    "    else if {education=HS-grad,marital.status=Married} (rule[85]) then positive probability = 0.70224325\n",
    "    else if {education=Some-college,marital.status=Married} (rule[98]) then positive probability = 0.58744545\n",
    "    else if {relationship=Own-child,hours.per.week=Full-time} (rule[224]) then positive probability = 0.98528471\n",
    "    else if {marital.status=Married,occupation=Prof-specialty} (rule[124]) then positive probability = 0.27289720\n",
    "    else if {education=Assoc-degree,marital.status=Married} (rule[59]) then positive probability = 0.57581069\n",
    "    else if {capital.loss=capital-lossEQ0,hours.per.week=Part-time} (rule[55]) then positive probability = 0.98307380\n",
    "    else if {occupation=Other-service,capital.loss=capital-lossEQ0} (rule[172]) then positive probability = 0.97980381\n",
    "    else if {occupation=Prof-specialty,sex=Male} (rule[183]) then positive probability = 0.73821990\n",
    "    else if {occupation=Adm-clerical,sex=Female} (rule[154]) then positive probability = 0.98090186\n",
    "    else if {occupation=Prof-specialty} (rule[184]) then positive probability = 0.86271186\n",
    "    else if {age=Middle-aged,education=HS-grad} (rule[4]) then positive probability = 0.96911197\n",
    "    else if {education=Grad-school} (rule[81]) then positive probability = 0.61656442\n",
    "    else if {age=Middle-aged,hours.per.week=Full-time} (rule[6]) then positive probability = 0.94713161\n",
    "    else if {education=Bachelors,native.country=N-America} (rule[69]) then positive probability = 0.73352034\n",
    "    else if {sex=Male,native.country=N-America} (rule[244]) then positive probability = 0.86269540\n",
    "    else  (default rule)  then positive probability = 0.94477711\n",
    "\n",
    "Elaine seems to have a slightly different rule list, without a rule for `{occupation=Adm-clerical,sex=Female}`,\n",
    "so we stop there.\n",
    "\n",
    "\"\"\"\n",
    "prefix = (45, 35, 77, 33, 134, 69, 68, 121, 86, 82, 97, 122, 59, 113, 210, 181, 166, 257)\n",
    "given_prefix(prefix, cache, rules, ones, ndata, max_accuracy=max_accuracy)\n",
    "viz.prefix_trace(prefix, cache, rule_names, ndata)"
   ]
  },
  {
   "cell_type": "code",
   "execution_count": null,
   "metadata": {
    "collapsed": false
   },
   "outputs": [],
   "source": [
    "\"\"\"\n",
    "There is another example rule list in our earlier paper http://arxiv.org/pdf/1602.08610v1.pdf on page 3:\n",
    "\n",
    "    if capital-gain>$7298.00 then probability to make over 50K = 0.986 \n",
    "    else if Young,Never-married, then probability to make over 50K = 0.003 \n",
    "    else if Grad-school,Married, then probability to make over 50K = 0.748 \n",
    "    else if Young,capital-loss=0, then probability to make over 50K = 0.072 \n",
    "    else if Own-child,Never-married, then probability to make over 50K = 0.015 \n",
    "    else if Bachelors,Married, then probability to make over 50K = 0.655 \n",
    "    else if Bachelors,Over-time, then probability to make over 50K = 0.255 \n",
    "    else if Exec-managerial,Married, then probability to make over 50K = 0.531 \n",
    "    else if Married,HS-grad, then probability to make over 50K = 0.300 \n",
    "    else if Grad-school, then probability to make over 50K = 0.266 \n",
    "    else if Some-college,Married, then probability to make over 50K = 0.410 \n",
    "    else if Prof-specialty,Married, then probability to make over 50K = 0.713 \n",
    "    else if Assoc-degree,Married, then probability to make over 50K = 0.420 \n",
    "    else if Part-time, then probability to make over 50K = 0.013 \n",
    "    else if Husband, then probability to make over 50K = 0.126 \n",
    "    else if Prof-specialty, then probability to make over 50K = 0.148 \n",
    "    else if Exec-managerial,Male, then probability to make over 50K = 0.193 \n",
    "    else if Full-time,Private, then probability to make over 50K = 0.026 \n",
    "    else (default rule) then probability to make over 50K = 0.066\n",
    "\n",
    "\"\"\"\n",
    "prefix = (45, 77, 35, 33, 69, 121, 86, 97, 221, 122, 59, 54, 169, 180)\n",
    "\n",
    "given_prefix(prefix, cache, rules, ones, ndata, max_accuracy=max_accuracy)\n",
    "viz.prefix_trace(prefix, cache, rule_names, ndata)"
   ]
  },
  {
   "cell_type": "code",
   "execution_count": null,
   "metadata": {
    "collapsed": true
   },
   "outputs": [],
   "source": []
  }
 ],
 "metadata": {
  "kernelspec": {
   "display_name": "Python 2",
   "language": "python",
   "name": "python2"
  },
  "language_info": {
   "codemirror_mode": {
    "name": "ipython",
    "version": 2
   },
   "file_extension": ".py",
   "mimetype": "text/x-python",
   "name": "python",
   "nbconvert_exporter": "python",
   "pygments_lexer": "ipython2",
   "version": "2.7.10"
  }
 },
 "nbformat": 4,
 "nbformat_minor": 0
}
