{
 "cells": [
  {
   "cell_type": "code",
   "execution_count": 75,
   "metadata": {
    "collapsed": true
   },
   "outputs": [],
   "source": [
    "import pandas as pd\n",
    "import numpy as np\n",
    "import matplotlib as mpl\n",
    "import matplotlib.pyplot as plt\n",
    "from StringIO import StringIO\n",
    "import itertools"
   ]
  },
  {
   "cell_type": "code",
   "execution_count": 55,
   "metadata": {
    "collapsed": true
   },
   "outputs": [],
   "source": [
    "def prettify_ax(ax):\n",
    "    \"\"\"\n",
    "    Nifty function we can use to make our axes more pleasant to look at\n",
    "    \"\"\"\n",
    "    for spine in ax.spines.itervalues():\n",
    "        spine.set_visible(False)\n",
    "    ax.set_frameon=True\n",
    "    ax.patch.set_facecolor('#eeeeef')\n",
    "    ax.grid('on', color='w', linestyle='-', linewidth=1)\n",
    "    ax.tick_params(direction='out')\n",
    "    ax.set_axisbelow(True)\n",
    "    \n",
    "def simple_ax(figsize=(6,4), **kwargs):\n",
    "    \"\"\"\n",
    "    Shortcut to make and 'prettify' a simple figure with 1 axis\n",
    "    \"\"\"\n",
    "    fig = plt.figure(figsize=figsize)\n",
    "    ax = fig.add_subplot(111, **kwargs)\n",
    "    prettify_ax(ax)\n",
    "    return fig, ax"
   ]
  },
  {
   "cell_type": "code",
   "execution_count": 92,
   "metadata": {
    "collapsed": false
   },
   "outputs": [],
   "source": [
    "data = StringIO(\"\"\"CART,C4.5,RIPPER\n",
    "0.001 0.003 0.01 0.03 0.1, 0.05 0.15 0.25 0.35 0.45,\n",
    "0.70319 0.7073509 0.7073509 0.6920943 0.6782247,0.7073509 0.7018031 0.7018031 0.6976422 0.6962552,0.7032\n",
    "13 7 7 3 2,7 10 10 25 34,7\n",
    "\"\"\")"
   ]
  },
  {
   "cell_type": "code",
   "execution_count": 136,
   "metadata": {
    "collapsed": false
   },
   "outputs": [],
   "source": [
    "n_params = 5\n",
    "idx = [(\"RIPPER\", 0)] + list(itertools.product([\"CART\", \"C4.5\"], range(n_params)))\n",
    "index = pd.MultiIndex.from_tuples(idx, names=[\"Alg\", \"Param_num\"])"
   ]
  },
  {
   "cell_type": "code",
   "execution_count": 94,
   "metadata": {
    "collapsed": false
   },
   "outputs": [],
   "source": [
    "df = pd.read_csv(data)\n",
    "df.index = ['Param', 'Accuracy', 'Sparsity']"
   ]
  },
  {
   "cell_type": "code",
   "execution_count": 189,
   "metadata": {
    "collapsed": false
   },
   "outputs": [
    {
     "data": {
      "text/html": [
       "<div>\n",
       "<table border=\"1\" class=\"dataframe\">\n",
       "  <thead>\n",
       "    <tr style=\"text-align: right;\">\n",
       "      <th></th>\n",
       "      <th></th>\n",
       "      <th>Param</th>\n",
       "      <th>Accuracy</th>\n",
       "      <th>Sparsity</th>\n",
       "    </tr>\n",
       "    <tr>\n",
       "      <th>Alg</th>\n",
       "      <th>Param_num</th>\n",
       "      <th></th>\n",
       "      <th></th>\n",
       "      <th></th>\n",
       "    </tr>\n",
       "  </thead>\n",
       "  <tbody>\n",
       "    <tr>\n",
       "      <th>RIPPER</th>\n",
       "      <th>0</th>\n",
       "      <td>NaN</td>\n",
       "      <td>0.703200</td>\n",
       "      <td>7.0</td>\n",
       "    </tr>\n",
       "    <tr>\n",
       "      <th rowspan=\"5\" valign=\"top\">CART</th>\n",
       "      <th>0</th>\n",
       "      <td>0.001</td>\n",
       "      <td>0.703190</td>\n",
       "      <td>13.0</td>\n",
       "    </tr>\n",
       "    <tr>\n",
       "      <th>1</th>\n",
       "      <td>0.003</td>\n",
       "      <td>0.707351</td>\n",
       "      <td>7.0</td>\n",
       "    </tr>\n",
       "    <tr>\n",
       "      <th>2</th>\n",
       "      <td>0.010</td>\n",
       "      <td>0.707351</td>\n",
       "      <td>7.0</td>\n",
       "    </tr>\n",
       "    <tr>\n",
       "      <th>3</th>\n",
       "      <td>0.030</td>\n",
       "      <td>0.692094</td>\n",
       "      <td>3.0</td>\n",
       "    </tr>\n",
       "    <tr>\n",
       "      <th>4</th>\n",
       "      <td>0.100</td>\n",
       "      <td>0.678225</td>\n",
       "      <td>2.0</td>\n",
       "    </tr>\n",
       "    <tr>\n",
       "      <th rowspan=\"5\" valign=\"top\">C4.5</th>\n",
       "      <th>0</th>\n",
       "      <td>0.050</td>\n",
       "      <td>0.707351</td>\n",
       "      <td>7.0</td>\n",
       "    </tr>\n",
       "    <tr>\n",
       "      <th>1</th>\n",
       "      <td>0.150</td>\n",
       "      <td>0.701803</td>\n",
       "      <td>10.0</td>\n",
       "    </tr>\n",
       "    <tr>\n",
       "      <th>2</th>\n",
       "      <td>0.250</td>\n",
       "      <td>0.701803</td>\n",
       "      <td>10.0</td>\n",
       "    </tr>\n",
       "    <tr>\n",
       "      <th>3</th>\n",
       "      <td>0.350</td>\n",
       "      <td>0.697642</td>\n",
       "      <td>25.0</td>\n",
       "    </tr>\n",
       "    <tr>\n",
       "      <th>4</th>\n",
       "      <td>0.450</td>\n",
       "      <td>0.696255</td>\n",
       "      <td>34.0</td>\n",
       "    </tr>\n",
       "  </tbody>\n",
       "</table>\n",
       "</div>"
      ],
      "text/plain": [
       "                  Param  Accuracy  Sparsity\n",
       "Alg    Param_num                           \n",
       "RIPPER 0            NaN  0.703200       7.0\n",
       "CART   0          0.001  0.703190      13.0\n",
       "       1          0.003  0.707351       7.0\n",
       "       2          0.010  0.707351       7.0\n",
       "       3          0.030  0.692094       3.0\n",
       "       4          0.100  0.678225       2.0\n",
       "C4.5   0          0.050  0.707351       7.0\n",
       "       1          0.150  0.701803      10.0\n",
       "       2          0.250  0.701803      10.0\n",
       "       3          0.350  0.697642      25.0\n",
       "       4          0.450  0.696255      34.0"
      ]
     },
     "execution_count": 189,
     "metadata": {},
     "output_type": "execute_result"
    }
   ],
   "source": [
    "split_df = df[\"RIPPER\"]\n",
    "for label in [\"CART\", \"C4.5\"]:\n",
    "    split_row = df.ix[:, label].apply(lambda x: pd.Series(map(float, x.split())))\n",
    "    split_row.columns = [label + '_' + str(i) for i in range(len(split_row.T))]\n",
    "    split_df = pd.concat([split_df, split_row], axis=1)\n",
    "#split_df.T.index=index\n",
    "split_df = split_df.T\n",
    "split_df.index = index\n",
    "split_df"
   ]
  },
  {
   "cell_type": "code",
   "execution_count": 191,
   "metadata": {
    "collapsed": false,
    "scrolled": false
   },
   "outputs": [
    {
     "data": {
      "image/png": "[encoded data removed]",
      "text/plain": [
       "<matplotlib.figure.Figure at 0x10e41b350>"
      ]
     },
     "metadata": {},
     "output_type": "display_data"
    }
   ],
   "source": [
    "fig, ax = simple_ax()\n",
    "colors = [0] + [1] * n_params + [2] * n_params\n",
    "for name, vals in split_df.iterrows():\n",
    "    if name[0] == \"RIPPER\":\n",
    "        c, m = ('b', 'o')\n",
    "    elif name[0] == \"CART\":\n",
    "        c, m = ('g', 'x')\n",
    "    elif name[0] == \"C4.5\":\n",
    "        c, m = ('r', 'v')\n",
    "    readable = name[0] + '_' + str(vals['Param'])\n",
    "    ax.scatter(vals['Sparsity'], vals['Accuracy'], c=c, marker=m, label=readable)\n",
    "plt.ylabel('Accuracy')\n",
    "plt.xlabel('Sparsity')\n",
    "plt.legend(ncol=2, scatterpoints=1, loc='lower right', fontsize=8, framealpha=0.3)\n",
    "plt.show()"
   ]
  },
  {
   "cell_type": "code",
   "execution_count": 254,
   "metadata": {
    "collapsed": false
   },
   "outputs": [
    {
     "data": {
      "image/png": "[encoded data removed]",
      "text/plain": [
       "<matplotlib.figure.Figure at 0x10e7c41d0>"
      ]
     },
     "metadata": {},
     "output_type": "display_data"
    }
   ],
   "source": [
    "fig, ax = simple_ax(figsize=(8,6))\n",
    "#ax.scatter(split_df['Sparsity'], split_df['Accuracy'])\n",
    "ax.boxplot(split_df['Sparsity'],vert=False, widths=0.1, manage_xticks=False, positions=[split_df['Accuracy'].median()])\n",
    "ax.boxplot(split_df['Accuracy'], widths=5, manage_xticks=False, positions=[split_df['Sparsity'].median()])\n",
    "ax.set_xticks(np.arange(0, 40, 5))\n",
    "ax.set_yticks(np.arange(0.6, 1, 5))\n",
    "plt.show()"
   ]
  },
  {
   "cell_type": "code",
   "execution_count": null,
   "metadata": {
    "collapsed": true
   },
   "outputs": [],
   "source": []
  }
 ],
 "metadata": {
  "kernelspec": {
   "display_name": "Python 2",
   "language": "python",
   "name": "python2"
  },
  "language_info": {
   "codemirror_mode": {
    "name": "ipython",
    "version": 2
   },
   "file_extension": ".py",
   "mimetype": "text/x-python",
   "name": "python",
   "nbconvert_exporter": "python",
   "pygments_lexer": "ipython2",
   "version": "2.7.10"
  }
 },
 "nbformat": 4,
 "nbformat_minor": 1
}
