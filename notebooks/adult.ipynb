{
 "cells": [
  {
   "cell_type": "code",
   "execution_count": null,
   "metadata": {
    "collapsed": false
   },
   "outputs": [],
   "source": [
    "import os\n",
    "import sys\n",
    "\n",
    "import matplotlib\n",
    "matplotlib.use('Agg')\n",
    "%matplotlib inline\n",
    "import matplotlib.pyplot as plt\n",
    "import numpy as np\n",
    "\n",
    "sys.path.insert(0, '../code')\n",
    "import serial_priority\n",
    "reload(serial_priority)\n",
    "from serial_priority import bbound"
   ]
  },
  {
   "cell_type": "code",
   "execution_count": null,
   "metadata": {
    "collapsed": false
   },
   "outputs": [],
   "source": [
    "# adult with c=0.003 and curiosity certifies quickly (< 2 sec) that\n",
    "# there are no prefixes with objective < 0.01\n",
    "# up to symmetries, 471 prefixes have lower bound < 0.01\n",
    "(metadata, metrics, cache, priority_queue) = \\\n",
    "    bbound(din=os.path.join('..', 'data'), dout=os.path.join('..', 'cache'),\n",
    "           dlog=os.path.join('..', 'logs'), dfigs=os.path.join('..', 'figs'),\n",
    "           froot='adult_R', warm_start=False, max_accuracy=0., best_prefix=(),\n",
    "           min_objective=0.01, c=0.003, min_captured_correct=0.003,\n",
    "           max_prefix_length=20, max_cache_size=3000000, delimiter='\\t',\n",
    "           method='curiosity', seed=0, sample=0.1, quiet=True,\n",
    "           garbage_collect=True)"
   ]
  },
  {
   "cell_type": "code",
   "execution_count": null,
   "metadata": {
    "collapsed": false
   },
   "outputs": [],
   "source": [
    "# adult with c=0.003 and curiosity inconclusive for objective < 0.05\n",
    "# up to symmetries, > 3,000,000 prefixes have lower bound < 0.05\n",
    "(metadata, metrics, cache, priority_queue) = \\\n",
    "    bbound(din=os.path.join('..', 'data'), dout=os.path.join('..', 'cache'),\n",
    "           dlog=os.path.join('..', 'logs'), dfigs=os.path.join('..', 'figs'),\n",
    "           froot='adult_R', warm_start=False, max_accuracy=0., best_prefix=(),\n",
    "           min_objective=0.05, c=0.003, min_captured_correct=0.003,\n",
    "           max_prefix_length=20, max_cache_size=3000000, delimiter='\\t',\n",
    "           method='curiosity', seed=0, sample=0.1, quiet=True,\n",
    "           garbage_collect=True)"
   ]
  },
  {
   "cell_type": "code",
   "execution_count": null,
   "metadata": {
    "collapsed": false
   },
   "outputs": [
    {
     "name": "stdout",
     "output_type": "stream",
     "text": [
      "c: 0.01\n",
      "min_objective: 0.05\n",
      "Writing log to ../logs/adult_R-serial_priority-c=0.01000-min_cap=0.003-min_objective=0.050-method=curiosity-max_cache_size=3000000-sample=0.10.txt\n",
      "total pairs: 40186 commuting pairs: 7679\n",
      "adult_R\n",
      "nrules: 284\n",
      "ndata: 3008\n"
     ]
    }
   ],
   "source": [
    "# adult with c=0.01 and curiosity inconclusive for objective < 0.05\n",
    "# up to symmetries, 156,603 prefixes have lower bound < 0.05\n",
    "(metadata, metrics, cache, priority_queue) = \\\n",
    "    bbound(din=os.path.join('..', 'data'), dout=os.path.join('..', 'cache'),\n",
    "           dlog=os.path.join('..', 'logs'), dfigs=os.path.join('..', 'figs'),\n",
    "           froot='adult_R', warm_start=False, max_accuracy=0., best_prefix=(),\n",
    "           min_objective=0.05, c=0.01, min_captured_correct=0.003,\n",
    "           max_prefix_length=20, max_cache_size=3000000, delimiter='\\t',\n",
    "           method='curiosity', seed=0, sample=0.1, quiet=True,\n",
    "           garbage_collect=True)"
   ]
  },
  {
   "cell_type": "code",
   "execution_count": null,
   "metadata": {
    "collapsed": true
   },
   "outputs": [],
   "source": []
  }
 ],
 "metadata": {
  "kernelspec": {
   "display_name": "Python 2",
   "language": "python",
   "name": "python2"
  }
 },
 "nbformat": 4,
 "nbformat_minor": 0
}
