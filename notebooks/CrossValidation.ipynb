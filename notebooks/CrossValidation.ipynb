{
 "cells": [
  {
   "cell_type": "code",
   "execution_count": 93,
   "metadata": {
    "collapsed": false
   },
   "outputs": [],
   "source": [
    "import pandas as pd\n",
    "import numpy as np\n",
    "import sklearn\n",
    "from sklearn.model_selection import ShuffleSplit\n",
    "import os\n",
    "import re"
   ]
  },
  {
   "cell_type": "code",
   "execution_count": 97,
   "metadata": {
    "collapsed": false
   },
   "outputs": [
    {
     "data": {
      "text/plain": [
       "{'adult_R',\n",
       " 'bcancer',\n",
       " 'bcancer_R',\n",
       " 'cars',\n",
       " 'cars_R',\n",
       " 'compas',\n",
       " 'haberman',\n",
       " 'haberman_R',\n",
       " 'monks1',\n",
       " 'monks1_R',\n",
       " 'monks2',\n",
       " 'monks2_R',\n",
       " 'monks3',\n",
       " 'monks3_R',\n",
       " 'tdata_R',\n",
       " 'titanic_cols',\n",
       " 'votes',\n",
       " 'votes_R'}"
      ]
     },
     "execution_count": 97,
     "metadata": {},
     "output_type": "execute_result"
    }
   ],
   "source": [
    "extensions = ['.label', '.out', '_binary.csv']\n",
    "f_names = set()\n",
    "for f_name in os.listdir('../data'):\n",
    "    for extension in extensions:\n",
    "        if extension in f_name:\n",
    "            f_names.add(re.sub(extension, '', f_name))\n",
    "f_names"
   ]
  },
  {
   "cell_type": "code",
   "execution_count": 100,
   "metadata": {
    "collapsed": false
   },
   "outputs": [],
   "source": [
    "for fname in f_names:\n",
    "    nrules = 0\n",
    "    with open('../data/{0}.out'.format(fname)) as f:\n",
    "        line = f.readline()\n",
    "        nrules = len(line.split()) - 1\n",
    "    out = pd.read_csv('../data/{0}.out'.format(fname), sep=' ', names=['Rule'] + range(nrules))\n",
    "    label = pd.read_csv('../data/{0}.label'.format(fname), sep=' ', names=['Rule'] + range(nrules))\n",
    "    cv = ShuffleSplit(n_splits=10, random_state=137)\n",
    "    i = 0\n",
    "    for train, test in cv.split(out.T):\n",
    "        train = train[train > 0]\n",
    "        test = test[test > 0]\n",
    "        for seg, split in [('train', train), ('test', test)]:\n",
    "            out_train = '../data/CrossValidation/{0}_{1}_{2}.out'.format(fname, i, seg)\n",
    "            label_train = '../data/CrossValidation/{0}_{1}_{2}.label'.format(fname, i, seg)\n",
    "            with open(out_train, 'w') as out_f:\n",
    "                out_concat = pd.concat([out.iloc[:, 0], out.iloc[:, split]], axis=1)\n",
    "                out_concat.to_csv(out_f, sep=' ', index=False, header=False)\n",
    "            with open(label_train, 'w') as label_f:\n",
    "                label_concat = pd.concat([label.iloc[:, 0], label.iloc[:, split]], axis=1)\n",
    "                label_concat.to_csv(label_f, sep=' ', index=False, header=False)\n",
    "        i += 1"
   ]
  },
  {
   "cell_type": "code",
   "execution_count": null,
   "metadata": {
    "collapsed": true
   },
   "outputs": [],
   "source": []
  }
 ],
 "metadata": {
  "kernelspec": {
   "display_name": "Python 2",
   "language": "python",
   "name": "python2"
  },
  "language_info": {
   "codemirror_mode": {
    "name": "ipython",
    "version": 2
   },
   "file_extension": ".py",
   "mimetype": "text/x-python",
   "name": "python",
   "nbconvert_exporter": "python",
   "pygments_lexer": "ipython2",
   "version": "2.7.10"
  }
 },
 "nbformat": 4,
 "nbformat_minor": 1
}
